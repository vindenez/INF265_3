{
 "cells": [
  {
   "cell_type": "code",
   "execution_count": 1,
   "metadata": {},
   "outputs": [
    {
     "name": "stderr",
     "output_type": "stream",
     "text": [
      "c:\\Users\\vinde\\Documents\\Projects\\INF265_3\\.venv\\Lib\\site-packages\\torchtext\\data\\__init__.py:4: UserWarning: \n",
      "/!\\ IMPORTANT WARNING ABOUT TORCHTEXT STATUS /!\\ \n",
      "Torchtext is deprecated and the last released version will be 0.18 (this one). You can silence this warning by calling the following at the beginnign of your scripts: `import torchtext; torchtext.disable_torchtext_deprecation_warning()`\n",
      "  warnings.warn(torchtext._TORCHTEXT_DEPRECATION_MSG)\n"
     ]
    }
   ],
   "source": [
    "import os\n",
    "import string\n",
    "import json\n",
    "from collections import Counter\n",
    "from torchtext.data.utils import get_tokenizer\n",
    "import torch\n",
    "import torch.nn as nn\n",
    "import torch.nn.functional as F\n",
    "from torch.utils.data import Dataset, DataLoader\n",
    "from sklearn.utils.class_weight import compute_class_weight\n",
    "import numpy as np\n",
    "import warnings\n",
    "\n",
    "warnings.filterwarnings(\"ignore\", category=UserWarning)\n"
   ]
  },
  {
   "cell_type": "markdown",
   "metadata": {},
   "source": [
    "# TASK 2.1 WORD EMBEDDING"
   ]
  },
  {
   "cell_type": "code",
   "execution_count": 2,
   "metadata": {},
   "outputs": [],
   "source": [
    "def read_and_tokenize(file_path):\n",
    "    tokenizer = get_tokenizer('basic_english')\n",
    "    with open(file_path, 'r', encoding='utf-8') as f:\n",
    "        text = f.read()\n",
    "    text = preprocess_text(text)\n",
    "    return tokenizer(text)\n",
    "\n",
    "def preprocess_text(text):\n",
    "    text = text.lower().translate(str.maketrans('', '', string.punctuation))\n",
    "    return text\n",
    "\n",
    "def tokenize_directory(directory_path):\n",
    "    tokenized_texts = []\n",
    "    for file_name in os.listdir(directory_path):\n",
    "        if file_name.endswith('.txt'): \n",
    "            file_path = os.path.join(directory_path, file_name)\n",
    "            tokens = read_and_tokenize(file_path)\n",
    "            tokenized_texts.extend(tokens)\n",
    "    return tokenized_texts"
   ]
  },
  {
   "cell_type": "code",
   "execution_count": 3,
   "metadata": {},
   "outputs": [
    {
     "name": "stdout",
     "output_type": "stream",
     "text": [
      "Number of words in training data: 2348007\n",
      "Number of words in validation data: 43758\n",
      "Number of words in test data: 107587\n"
     ]
    }
   ],
   "source": [
    "train_folder = 'inf265_v24_project03_data/data_train'\n",
    "val_folder = 'inf265_v24_project03_data/data_val'\n",
    "test_folder = 'inf265_v24_project03_data/data_test'\n",
    "\n",
    "tokenized_train = tokenize_directory(train_folder)\n",
    "tokenized_val = tokenize_directory(val_folder)\n",
    "tokenized_test = tokenize_directory(test_folder)\n",
    "\n",
    "print(f\"Number of words in training data: {len(tokenized_train)}\")\n",
    "print(f\"Number of words in validation data: {len(tokenized_val)}\")\n",
    "print(f\"Number of words in test data: {len(tokenized_test)}\")"
   ]
  },
  {
   "cell_type": "code",
   "execution_count": 4,
   "metadata": {},
   "outputs": [],
   "source": [
    "def build_vocabulary(tokenized_texts, min_freq=100):\n",
    "    word_freq = Counter(tokenized_texts)\n",
    "    vocab = {'<unk>': 0}  \n",
    "    index = 1  \n",
    "    for word, freq in word_freq.items():\n",
    "        if freq >= min_freq:\n",
    "            vocab[word] = index\n",
    "            index += 1\n",
    "    total_words = sum(word_freq.values())\n",
    "    distinct_words = len(word_freq)\n",
    "    vocab_size = len(vocab)\n",
    "    return vocab, total_words, distinct_words, vocab_size\n",
    "\n",
    "vocab, total_words, distinct_words, vocab_size = build_vocabulary(tokenized_train, min_freq=100)\n"
   ]
  },
  {
   "cell_type": "code",
   "execution_count": 5,
   "metadata": {},
   "outputs": [
    {
     "name": "stdout",
     "output_type": "stream",
     "text": [
      "Total number of words in the training dataset: 2348007\n",
      "Number of distinct words in the training dataset: 52585\n",
      "Size of the defined vocabulary (words appearing at least 100 times): 2082\n",
      "\n",
      "Comments on Results:\n",
      "The defined vocabulary is smaller than the total number of distinct words,\n",
      "indicating that not all words appear frequently enough to be included.\n"
     ]
    }
   ],
   "source": [
    "print(f\"Total number of words in the training dataset: {total_words}\")\n",
    "print(f\"Number of distinct words in the training dataset: {distinct_words}\")\n",
    "print(f\"Size of the defined vocabulary (words appearing at least 100 times): {vocab_size}\")\n",
    "\n",
    "print(\"\\nComments on Results:\")\n",
    "if vocab_size < distinct_words:\n",
    "    print(\"The defined vocabulary is smaller than the total number of distinct words,\")\n",
    "    print(\"indicating that not all words appear frequently enough to be included.\")\n",
    "else:\n",
    "    print(\"All distinct words appear frequently and are included in the vocabulary.\")"
   ]
  },
  {
   "cell_type": "code",
   "execution_count": 6,
   "metadata": {},
   "outputs": [],
   "source": [
    "class CBOWModel(nn.Module):\n",
    "    def __init__(self, vocab_size, embedding_dim):\n",
    "        super(CBOWModel, self).__init__()\n",
    "        self.embeddings = nn.Embedding(vocab_size, embedding_dim)  \n",
    "        self.linear = nn.Linear(embedding_dim, vocab_size)  \n",
    "\n",
    "    def forward(self, inputs):\n",
    "        embeds = self.embeddings(inputs)  \n",
    "        embeds_mean = torch.mean(embeds, dim=1)  \n",
    "        out = self.linear(embeds_mean)  \n",
    "        log_probs = F.log_softmax(out, dim=1) \n",
    "        return log_probs"
   ]
  },
  {
   "cell_type": "code",
   "execution_count": 7,
   "metadata": {},
   "outputs": [],
   "source": [
    "class CBOWDataset(Dataset):\n",
    "    def __init__(self, tokenized_texts, word_to_ix, context_size):\n",
    "        self.word_to_ix = word_to_ix  \n",
    "        self.data = []\n",
    "        for i in range(context_size, len(tokenized_texts) - context_size):\n",
    "            context = [tokenized_texts[j] for j in range(i - context_size, i + context_size + 1) if j != i]\n",
    "            target = tokenized_texts[i]\n",
    "            context_indices = [word_to_ix.get(word, word_to_ix['<unk>']) for word in context]\n",
    "            target_index = word_to_ix.get(target, word_to_ix['<unk>'])\n",
    "            self.data.append((context_indices, target_index))\n",
    "\n",
    "    def __len__(self):\n",
    "        return len(self.data)\n",
    "\n",
    "    def __getitem__(self, idx):\n",
    "        context_indices, target_index = self.data[idx]\n",
    "        return torch.tensor(context_indices, dtype=torch.long), torch.tensor(target_index, dtype=torch.long)\n"
   ]
  },
  {
   "cell_type": "code",
   "execution_count": 8,
   "metadata": {},
   "outputs": [],
   "source": [
    "device = torch.device(\"cuda\" if torch.cuda.is_available() else \"cpu\")\n",
    "word_to_ix = {word: i for i, word in enumerate(vocab)}\n",
    "train_data = CBOWDataset(tokenized_train, word_to_ix, context_size=4)\n",
    "val_data = CBOWDataset(tokenized_val, word_to_ix, context_size=4)\n",
    "\n",
    "train_loader = DataLoader(train_data, batch_size=32, shuffle=True)\n",
    "val_loader = DataLoader(val_data, batch_size=32, shuffle=True)\n",
    "\n",
    "model_losses = {}"
   ]
  },
  {
   "cell_type": "code",
   "execution_count": 9,
   "metadata": {},
   "outputs": [
    {
     "name": "stdout",
     "output_type": "stream",
     "text": [
      "Class weights calculated successfully: [3.01303597e-03 3.03161636e+00 4.90757740e-02 ... 1.11659533e+01\n",
      " 1.00692972e+01 1.07405837e+01]\n"
     ]
    }
   ],
   "source": [
    "def compute_class_weights(word_to_ix, dataset):\n",
    "    all_targets = np.array([target for _, target in dataset])\n",
    "    \n",
    "    class_indices = np.array(list(word_to_ix.values())) \n",
    "    \n",
    "    class_weights = compute_class_weight('balanced', classes=class_indices, y=all_targets)\n",
    "    \n",
    "    print(\"Class weights calculated successfully:\", class_weights)\n",
    "    return torch.tensor(class_weights, dtype=torch.float).to(device)\n",
    "\n",
    "class_weights = compute_class_weights(word_to_ix, train_data)"
   ]
  },
  {
   "cell_type": "code",
   "execution_count": 10,
   "metadata": {},
   "outputs": [],
   "source": [
    "def train_cbow_models(vocab_size, embedding_dims, epochs, learning_rate):\n",
    "    for embedding_dim in embedding_dims:\n",
    "        model = CBOWModel(vocab_size, embedding_dim).to(device)\n",
    "        optimizer = torch.optim.Adam(model.parameters(), lr=learning_rate)\n",
    "        criterion = nn.CrossEntropyLoss(weight=class_weights.to(device))\n",
    "\n",
    "        for epoch in range(epochs):\n",
    "            model.train()\n",
    "            total_loss = 0\n",
    "            for context, target in train_loader:\n",
    "                context, target = context.to(device), target.to(device)\n",
    "                optimizer.zero_grad()\n",
    "                log_probs = model(context)\n",
    "                loss = criterion(log_probs, target)\n",
    "                loss.backward()\n",
    "                optimizer.step()\n",
    "                total_loss += loss.item()\n",
    "            average_train_loss = total_loss / len(train_loader)\n",
    "            print(f'Epoch {epoch}, Average Training Loss: {average_train_loss}')\n",
    "\n",
    "        model_path = f'cbow_model_{embedding_dim}.pth'\n",
    "        torch.save(model.state_dict(), model_path)\n",
    "\n",
    "        model.eval()\n",
    "        val_loss = 0\n",
    "        with torch.no_grad():\n",
    "            for context, target in val_loader:\n",
    "                context, target = context.to(device), target.to(device)\n",
    "                log_probs = model(context)\n",
    "                loss = criterion(log_probs, target)\n",
    "                val_loss += loss.item()\n",
    "        avg_val_loss = val_loss / len(val_loader)\n",
    "        model_losses[embedding_dim] = avg_val_loss\n",
    "        print(f'Model with embedding dim {embedding_dim}, Validation Loss: {avg_val_loss}')\n",
    "\n",
    "    best_embedding_dim = min(model_losses, key=model_losses.get)\n",
    "    print(f'The best model has an embedding dimension of {best_embedding_dim} with a validation loss of {model_losses[best_embedding_dim]}')\n",
    "\n",
    "    return best_embedding_dim\n",
    "\n",
    "\n"
   ]
  },
  {
   "cell_type": "code",
   "execution_count": 11,
   "metadata": {},
   "outputs": [],
   "source": [
    "vocab_size = len(vocab)\n",
    "context_size = 4\n",
    "embedding_dims = [10, 12, 16]  \n",
    "epochs = 5\n",
    "learning_rate = 0.01"
   ]
  },
  {
   "cell_type": "code",
   "execution_count": 12,
   "metadata": {},
   "outputs": [],
   "source": [
    "with open('tokenized_text.json', 'w') as f:\n",
    "    json.dump(tokenized_train, f)\n",
    "\n",
    "with open('vocabulary.json', 'w') as f:\n",
    "    json.dump(vocab, f)"
   ]
  },
  {
   "cell_type": "code",
   "execution_count": 13,
   "metadata": {},
   "outputs": [
    {
     "data": {
      "text/plain": [
       "CBOWModel(\n",
       "  (embeddings): Embedding(2082, 16)\n",
       "  (linear): Linear(in_features=16, out_features=2082, bias=True)\n",
       ")"
      ]
     },
     "execution_count": 13,
     "metadata": {},
     "output_type": "execute_result"
    }
   ],
   "source": [
    "model = CBOWModel(vocab_size, 16)\n",
    "model.load_state_dict(torch.load('cbow_model_16.pth', map_location=device))\n",
    "model.to(device)"
   ]
  },
  {
   "cell_type": "code",
   "execution_count": 14,
   "metadata": {},
   "outputs": [],
   "source": [
    "embeddings = model.embeddings.weight.data"
   ]
  },
  {
   "cell_type": "code",
   "execution_count": 15,
   "metadata": {},
   "outputs": [],
   "source": [
    "from sklearn.metrics.pairwise import cosine_similarity\n",
    "\n",
    "norm_embeddings = embeddings / embeddings.norm(p=2, dim=1, keepdim=True)\n",
    "\n",
    "cosine_sim_matrix = cosine_similarity(norm_embeddings.cpu().numpy())"
   ]
  },
  {
   "cell_type": "code",
   "execution_count": 16,
   "metadata": {},
   "outputs": [
    {
     "name": "stdout",
     "output_type": "stream",
     "text": [
      "Words similar to 'me': ['thee', 'us', 'him', 'arthur', 'her', 'ourselves', 'professor', 'them', 'god', 'mine']\n",
      "Words similar to 'white': ['blue', 'delicate', 'yellow', 'small', 'thin', 'gray', 'large', 'handsome', 'black', 'bright']\n",
      "Words similar to 'man': ['woman', 'soldier', 'lady', 'wife', 'gentleman', 'children', 'comrades', 'girl', 'chiefs', 'child']\n",
      "Words similar to 'have': ['had', 've', 'be', 'has', 'having', 'speech', 'also', 'ill', 'hast', 'life']\n",
      "Words similar to 'be': ['being', 'fully', 'have', 'remain', 'been', 'are', 'look', 'material', 'am', 'finally']\n",
      "Words similar to 'child': ['lips', 'bodies', 'hands', 'fire', 'seat', 'knees', 'wolf', 'cook', 'woman', 'boy']\n",
      "Words similar to 'yes': ['honor', 'sir', 'martin', 'ah', 'certainly', 'mon', 'god', 'candide', 'eh', 'devil']\n",
      "Words similar to 'what': ['neither', 'impossible', 'that', 'certainly', 'russia', 'otherwise', 'really', 'whether', 'never', 'reader']\n"
     ]
    }
   ],
   "source": [
    "def find_most_similar_words(word, word_to_ix, ix_to_word, similarity_matrix, top_n=10):\n",
    "    word_index = word_to_ix[word]\n",
    "    word_similarities = similarity_matrix[word_index]\n",
    "    \n",
    "    most_similar_indices = word_similarities.argsort()[-top_n-1:-1][::-1]\n",
    "    \n",
    "    similar_words = [ix_to_word[ix] for ix in most_similar_indices]\n",
    "    return similar_words\n",
    "\n",
    "ix_to_word = {index: word for word, index in word_to_ix.items()}\n",
    "\n",
    "chosen_words = [\"me\", \"white\", \"man\", \"have\", \"be\", \"child\", \"yes\", \"what\"]\n",
    "\n",
    "for word in chosen_words:\n",
    "    similar_words = find_most_similar_words(word, word_to_ix, ix_to_word, cosine_sim_matrix)\n",
    "    print(f\"Words similar to '{word}': {similar_words}\")\n"
   ]
  },
  {
   "cell_type": "code",
   "execution_count": 17,
   "metadata": {},
   "outputs": [],
   "source": [
    "import csv\n",
    "\n",
    "def save_vocab(vocab, file_path):\n",
    "    with open(file_path, 'w', newline='', encoding='utf-8') as csvfile:\n",
    "        writer = csv.writer(csvfile, delimiter='\\t')\n",
    "        writer.writerow(['Word', 'Index'])\n",
    "        for word, index in vocab.items():\n",
    "            writer.writerow([word, index])\n",
    "\n",
    "def save_embeddings(model, vocab, file_path):\n",
    "    with open(file_path, 'w', newline='', encoding='utf-8') as csvfile:\n",
    "        writer = csv.writer(csvfile, delimiter='\\t')\n",
    "        writer.writerow(['Word', 'Embedding'])\n",
    "        for word, index in vocab.items():\n",
    "            index_tensor = torch.tensor([index], device=device)\n",
    "            embedding = model.embeddings(index_tensor).detach().cpu().numpy()  \n",
    "            embedding = embedding.flatten()\n",
    "            writer.writerow([word, '\\t'.join(map(str, embedding))])\n",
    "\n",
    "save_vocab(vocab, 'vocab_indices.tsv')\n",
    "save_embeddings(model, vocab, 'vocab_embeddings.tsv')\n"
   ]
  },
  {
   "cell_type": "markdown",
   "metadata": {},
   "source": [
    "# TASK 2.2 CONJUGATING BE AND HAVE"
   ]
  },
  {
   "cell_type": "code",
   "execution_count": 18,
   "metadata": {},
   "outputs": [],
   "source": [
    "import pandas as pd\n",
    "import torch\n",
    "from torch.nn.utils.rnn import pad_sequence\n",
    "from torch.utils.data import Dataset, DataLoader\n",
    "import math\n",
    "\n",
    "device = torch.device(\"cuda\" if torch.cuda.is_available() else \"cpu\")\n",
    "\n",
    "def parse_embedding(embedding_str):\n",
    "    clean_str = embedding_str.strip('[]\"')\n",
    "    return [float(num) for num in clean_str.split()]\n",
    "\n",
    "def load_embeddings(embeddings_file, indices_file):\n",
    "    indices = pd.read_csv(indices_file, sep='\\t')\n",
    "    word_to_ix = {row['Word']: int(row['Index']) for index, row in indices.iterrows()}\n",
    "    embeddings_df = pd.read_csv(embeddings_file, sep='\\t', converters={1: parse_embedding})\n",
    "    embedding_list = embeddings_df['Embedding'].apply(lambda x: torch.tensor(x, dtype=torch.float))\n",
    "    embeddings_tensor = torch.stack(embedding_list.tolist())\n",
    "\n",
    "    return embeddings_tensor, word_to_ix\n",
    "\n",
    "embeddings, word_to_ix = load_embeddings('vocab_embeddings.tsv', 'vocab_indices.tsv')\n",
    "vocab_size = len(word_to_ix)\n"
   ]
  },
  {
   "cell_type": "code",
   "execution_count": 19,
   "metadata": {},
   "outputs": [],
   "source": [
    "from torchtext.data.utils import get_tokenizer\n",
    "\n",
    "def tokenize_directory(directory_path, target_verbs, word_to_ix, tokenizer):\n",
    "    context_data = []\n",
    "    for file_name in os.listdir(directory_path):\n",
    "        if file_name.endswith('.txt'):\n",
    "            file_path = os.path.join(directory_path, file_name)\n",
    "            with open(file_path, 'r', encoding='utf-8') as file:\n",
    "                text = file.read().lower().translate(str.maketrans('', '', string.punctuation))\n",
    "                sentences = text.split('\\n')\n",
    "                for sentence in sentences:\n",
    "                    words = tokenizer(sentence)\n",
    "                    for i, word in enumerate(words):\n",
    "                        if word in target_verbs:\n",
    "                            start = max(0, i - 2)\n",
    "                            end = min(len(words), i + 3)\n",
    "                            context = [word_to_ix.get(w, word_to_ix['<unk>']) for w in words[start:i] + words[i+1:end]]\n",
    "                            target = verb_to_index[word]  \n",
    "                            context_data.append((context, target))\n",
    "    return context_data\n",
    "\n",
    "tokenizer = get_tokenizer('basic_english')\n",
    "target_verbs = ['am', 'is', 'are', 'was', 'were', 'being', 'been', 'have', 'has', 'had', 'having']\n",
    "verb_to_index = {\n",
    "    'am': 0, 'is': 1, 'are': 2, 'was': 3, 'were': 4, 'being': 5, 'been': 6,\n",
    "    'have': 7, 'has': 8, 'had': 9, 'having': 10\n",
    "}\n",
    "\n",
    "\n",
    "tokenized_train = tokenize_directory(train_folder, target_verbs, word_to_ix, tokenizer)\n",
    "tokenized_val = tokenize_directory(val_folder, target_verbs, word_to_ix, tokenizer)\n",
    "tokenized_test = tokenize_directory(test_folder, target_verbs, word_to_ix, tokenizer)\n",
    "\n"
   ]
  },
  {
   "cell_type": "code",
   "execution_count": 20,
   "metadata": {},
   "outputs": [],
   "source": [
    "class Dataset(Dataset):\n",
    "    def __init__(self, data):\n",
    "        self.contexts = [torch.tensor(context, dtype=torch.long) for context, _ in data]\n",
    "        self.targets = torch.tensor([target for _, target in data], dtype=torch.long)\n",
    "\n",
    "    def __len__(self):\n",
    "        return len(self.contexts)\n",
    "\n",
    "    def __getitem__(self, idx):\n",
    "        return self.contexts[idx], self.targets[idx]\n"
   ]
  },
  {
   "cell_type": "code",
   "execution_count": 21,
   "metadata": {},
   "outputs": [],
   "source": [
    "def collate_fn(batch):\n",
    "    contexts, targets = zip(*batch)\n",
    "    contexts = [torch.tensor(context) for context in contexts]\n",
    "    targets = torch.tensor(targets)\n",
    "    \n",
    "    contexts_padded = pad_sequence(contexts, batch_first=True, padding_value=0)\n",
    "    \n",
    "    return contexts_padded, targets\n",
    "\n",
    "\n",
    "train_dataset = Dataset(tokenized_train)\n",
    "test_dataset = Dataset(tokenized_test)\n",
    "val_dataset = Dataset(tokenized_val)\n",
    "\n",
    "train_loader = DataLoader(train_dataset, batch_size=32, shuffle=True, collate_fn=collate_fn)\n",
    "test_loader = DataLoader(test_dataset, batch_size=32, shuffle=True, collate_fn=collate_fn)\n",
    "val_loader = DataLoader(val_dataset, batch_size=32, shuffle=True, collate_fn=collate_fn)"
   ]
  },
  {
   "cell_type": "code",
   "execution_count": 22,
   "metadata": {},
   "outputs": [
    {
     "name": "stdout",
     "output_type": "stream",
     "text": [
      "Number of classes (unique conjugations): 11\n"
     ]
    }
   ],
   "source": [
    "be_forms = ['am', 'is', 'are', 'was', 'were', 'being', 'been']\n",
    "have_forms = ['have', 'has', 'had', 'having']\n",
    "\n",
    "num_classes = len(be_forms) + len(have_forms)\n",
    "print(\"Number of classes (unique conjugations):\", num_classes)\n"
   ]
  },
  {
   "cell_type": "code",
   "execution_count": 23,
   "metadata": {},
   "outputs": [],
   "source": [
    "def positional_encoding(max_len, emb_dim):\n",
    "    # Create a matrix of shape (max_len, emb_dim) for positional encodings\n",
    "    pe = torch.zeros(max_len, emb_dim)\n",
    "    position = torch.arange(0, max_len, dtype=torch.float).unsqueeze(1)\n",
    "    div_term = torch.exp(torch.arange(0, emb_dim, 2).float() * (-math.log(10000.0) / emb_dim))\n",
    "    \n",
    "    pe[:, 0::2] = torch.sin(position * div_term)\n",
    "    pe[:, 1::2] = torch.cos(position * div_term)\n",
    "    \n",
    "    pe = pe.unsqueeze(0)  # Add batch dimension [1, max_len, emb_dim] for broadcasting\n",
    "    return pe"
   ]
  },
  {
   "cell_type": "code",
   "execution_count": 24,
   "metadata": {},
   "outputs": [],
   "source": [
    "class SimpleMLP(nn.Module):\n",
    "    def __init__(self, vocab_size, embedding_dim, num_classes, max_len):\n",
    "        super(SimpleMLP, self).__init__()\n",
    "        self.embeddings = nn.Embedding(vocab_size, embedding_dim)\n",
    "        self.positional_encodings = positional_encoding(max_len, embedding_dim).to(device)\n",
    "        self.fc1 = nn.Linear(embedding_dim, 256)\n",
    "        self.bn1 = nn.BatchNorm1d(256)\n",
    "        self.dropout = nn.Dropout(0.5)\n",
    "        self.fc2 = nn.Linear(256, 128)\n",
    "        self.fc3 = nn.Linear(128, num_classes)\n",
    "\n",
    "    def forward(self, inputs):\n",
    "        embedded = self.embeddings(inputs) \n",
    "        seq_len = inputs.size(1)\n",
    "        embedded += self.positional_encodings[:, :seq_len, :]  \n",
    "        embedded = embedded.mean(dim=1)  \n",
    "        x = F.relu(self.fc1(embedded))\n",
    "        x = self.bn1(x)\n",
    "        x = self.dropout(x)\n",
    "        x = F.relu(self.fc2(x))\n",
    "        output = self.fc3(x)\n",
    "        return output\n"
   ]
  },
  {
   "cell_type": "code",
   "execution_count": 25,
   "metadata": {},
   "outputs": [],
   "source": [
    "class MultiHeadAttention(nn.Module):\n",
    "    def __init__(self, emb_dim, n_heads):\n",
    "        super(MultiHeadAttention, self).__init__()\n",
    "        self.n_heads = n_heads\n",
    "        self.emb_dim = emb_dim\n",
    "        \n",
    "        assert emb_dim % n_heads == 0\n",
    "        self.depth = emb_dim // n_heads\n",
    "        \n",
    "        self.Wq = nn.ModuleList([nn.Linear(emb_dim, self.depth) for _ in range(n_heads)])\n",
    "        self.Wk = nn.ModuleList([nn.Linear(emb_dim, self.depth) for _ in range(n_heads)])\n",
    "        self.Wv = nn.ModuleList([nn.Linear(emb_dim, self.depth) for _ in range(n_heads)])\n",
    "        \n",
    "        self.final_linear = nn.Linear(emb_dim, emb_dim)\n",
    "    \n",
    "    def forward(self, x):\n",
    "        batch_size = x.size(0)\n",
    "        \n",
    "        Q = torch.cat([self.Wq[i](x).view(batch_size, -1, self.depth) for i in range(self.n_heads)], dim=2)\n",
    "        K = torch.cat([self.Wk[i](x).view(batch_size, -1, self.depth) for i in range(self.n_heads)], dim=2)\n",
    "        V = torch.cat([self.Wv[i](x).view(batch_size, -1, self.depth) for i in range(self.n_heads)], dim=2)\n",
    "        \n",
    "        attention_scores = torch.matmul(Q, K.transpose(-2, -1)) / (self.depth ** 0.5)\n",
    "        attention_weights = F.softmax(attention_scores, dim=-1)\n",
    "        attended = torch.matmul(attention_weights, V)\n",
    "        \n",
    "        attended = attended.view(batch_size, -1, self.n_heads * self.depth)\n",
    "        output = self.final_linear(attended)\n",
    "        \n",
    "        return output\n",
    "\n",
    "class AttentionMLP(nn.Module):\n",
    "    def __init__(self, vocab_size, embedding_dim, num_classes, max_len, n_heads):\n",
    "        super(AttentionMLP, self).__init__()\n",
    "        self.embeddings = nn.Embedding(vocab_size, embedding_dim)\n",
    "        self.positional_encodings = positional_encoding(max_len, embedding_dim).to(device)\n",
    "        self.attention = MultiHeadAttention(embedding_dim, n_heads)\n",
    "        self.layer_norm = nn.LayerNorm(embedding_dim)\n",
    "        self.fc1 = nn.Linear(embedding_dim, 128)\n",
    "        self.fc2 = nn.Linear(128, num_classes)\n",
    "\n",
    "    def forward(self, inputs):\n",
    "        embedded = self.embeddings(inputs)  \n",
    "        seq_len = inputs.size(1)\n",
    "        pos_encodings = self.positional_encodings[:, :seq_len, :] \n",
    "        embedded += pos_encodings\n",
    "        embedded = self.layer_norm(embedded)\n",
    "        attended = self.attention(embedded)\n",
    "        attended = attended.mean(dim=1)\n",
    "        x = F.relu(self.fc1(attended))\n",
    "        output = self.fc2(x)\n",
    "        return output\n",
    "\n",
    "\n"
   ]
  },
  {
   "cell_type": "code",
   "execution_count": 26,
   "metadata": {},
   "outputs": [],
   "source": [
    "class SimpleRNN(nn.Module):\n",
    "    def __init__(self, vocab_size, embedding_dim, num_classes, max_len):\n",
    "        super(SimpleRNN, self).__init__()\n",
    "        self.embeddings = nn.Embedding(vocab_size, embedding_dim)\n",
    "        self.positional_encodings = positional_encoding(max_len, embedding_dim).to(device)\n",
    "        self.lstm = nn.LSTM(embedding_dim, 128, batch_first=True, dropout=0.5, num_layers=2)\n",
    "        self.fc = nn.Linear(128, num_classes)\n",
    "\n",
    "    def forward(self, inputs):\n",
    "        embedded = self.embeddings(inputs) \n",
    "        seq_len = inputs.size(1)\n",
    "        embedded += self.positional_encodings[:, :seq_len, :] \n",
    "        lstm_out, (h_n, c_n) = self.lstm(embedded)\n",
    "        final_output = lstm_out[:, -1, :]  \n",
    "        output = self.fc(final_output)\n",
    "        return output\n"
   ]
  },
  {
   "cell_type": "code",
   "execution_count": 27,
   "metadata": {},
   "outputs": [],
   "source": [
    "def train_model(model, train_loader, val_loader, num_epochs=5):\n",
    "    optimizer = torch.optim.Adam(model.parameters(), lr=0.01)\n",
    "    criterion = torch.nn.CrossEntropyLoss()\n",
    "    device = next(model.parameters()).device  \n",
    "\n",
    "    for epoch in range(num_epochs):\n",
    "        model.train()  \n",
    "        total_loss = 0\n",
    "        for contexts, targets in train_loader:\n",
    "            contexts, targets = contexts.to(device), targets.to(device)\n",
    "            optimizer.zero_grad()  \n",
    "            outputs = model(contexts)\n",
    "            loss = criterion(outputs, targets)\n",
    "            loss.backward()  \n",
    "            optimizer.step()  \n",
    "            total_loss += loss.item()\n",
    "\n",
    "        print(f'Epoch {epoch+1}/{num_epochs}, Training Loss: {total_loss/len(train_loader)}')\n",
    "\n",
    "        model.eval()  \n",
    "        with torch.no_grad():\n",
    "            validation_loss = 0\n",
    "            for val_contexts, val_targets in val_loader:\n",
    "                val_contexts, val_targets = val_contexts.to(device), val_targets.to(device)\n",
    "                val_outputs = model(val_contexts)\n",
    "                val_loss = criterion(val_outputs, val_targets)\n",
    "                validation_loss += val_loss.item()\n",
    "            print(f'Epoch {epoch+1}/{num_epochs}, Validation Loss: {validation_loss/len(val_loader)}')\n",
    "\n",
    "    return model \n",
    "\n",
    "embedding_dim = embeddings.size(1)\n"
   ]
  },
  {
   "cell_type": "code",
   "execution_count": 28,
   "metadata": {},
   "outputs": [],
   "source": [
    "max_len=50\n",
    "\n",
    "simple_mlp = SimpleMLP(vocab_size, embedding_dim, num_classes, max_len)\n",
    "attention_mlp = AttentionMLP(vocab_size, embedding_dim, num_classes, max_len, n_heads=8)\n",
    "simple_rnn = SimpleRNN(vocab_size, embedding_dim, num_classes, max_len)\n"
   ]
  },
  {
   "cell_type": "code",
   "execution_count": 29,
   "metadata": {},
   "outputs": [
    {
     "name": "stdout",
     "output_type": "stream",
     "text": [
      "Epoch 1/5, Training Loss: 1.3899660318797205\n",
      "Epoch 1/5, Validation Loss: 1.3802517177285374\n",
      "Epoch 2/5, Training Loss: 1.2678373507479586\n",
      "Epoch 2/5, Validation Loss: 1.3699144133039423\n",
      "Epoch 3/5, Training Loss: 1.2363972117761737\n",
      "Epoch 3/5, Validation Loss: 1.3014521735745508\n",
      "Epoch 4/5, Training Loss: 1.2214995037607208\n",
      "Epoch 4/5, Validation Loss: 1.2989961247186403\n",
      "Epoch 5/5, Training Loss: 1.2064502916192816\n",
      "Epoch 5/5, Validation Loss: 1.3072451103377987\n"
     ]
    },
    {
     "data": {
      "text/plain": [
       "AttentionMLP(\n",
       "  (embeddings): Embedding(2082, 16)\n",
       "  (attention): MultiHeadAttention(\n",
       "    (Wq): ModuleList(\n",
       "      (0-7): 8 x Linear(in_features=16, out_features=2, bias=True)\n",
       "    )\n",
       "    (Wk): ModuleList(\n",
       "      (0-7): 8 x Linear(in_features=16, out_features=2, bias=True)\n",
       "    )\n",
       "    (Wv): ModuleList(\n",
       "      (0-7): 8 x Linear(in_features=16, out_features=2, bias=True)\n",
       "    )\n",
       "    (final_linear): Linear(in_features=16, out_features=16, bias=True)\n",
       "  )\n",
       "  (layer_norm): LayerNorm((16,), eps=1e-05, elementwise_affine=True)\n",
       "  (fc1): Linear(in_features=16, out_features=128, bias=True)\n",
       "  (fc2): Linear(in_features=128, out_features=11, bias=True)\n",
       ")"
      ]
     },
     "execution_count": 29,
     "metadata": {},
     "output_type": "execute_result"
    }
   ],
   "source": [
    "attention_mlp.embeddings.weight = nn.Parameter(embeddings)\n",
    "attention_mlp.to(device)\n",
    "train_model(attention_mlp, train_loader, val_loader)"
   ]
  },
  {
   "cell_type": "code",
   "execution_count": 30,
   "metadata": {},
   "outputs": [
    {
     "name": "stdout",
     "output_type": "stream",
     "text": [
      "Epoch 1/5, Training Loss: 1.4880880003613175\n",
      "Epoch 1/5, Validation Loss: 1.3951689762038153\n",
      "Epoch 2/5, Training Loss: 1.3711579987453215\n",
      "Epoch 2/5, Validation Loss: 1.409889168835975\n",
      "Epoch 3/5, Training Loss: 1.3490811349648675\n",
      "Epoch 3/5, Validation Loss: 1.4624693385652594\n",
      "Epoch 4/5, Training Loss: 1.3356421805406016\n",
      "Epoch 4/5, Validation Loss: 1.9456583430638184\n",
      "Epoch 5/5, Training Loss: 1.3296295510145504\n",
      "Epoch 5/5, Validation Loss: 1.4816955150784672\n"
     ]
    },
    {
     "data": {
      "text/plain": [
       "SimpleMLP(\n",
       "  (embeddings): Embedding(2082, 16)\n",
       "  (fc1): Linear(in_features=16, out_features=256, bias=True)\n",
       "  (bn1): BatchNorm1d(256, eps=1e-05, momentum=0.1, affine=True, track_running_stats=True)\n",
       "  (dropout): Dropout(p=0.5, inplace=False)\n",
       "  (fc2): Linear(in_features=256, out_features=128, bias=True)\n",
       "  (fc3): Linear(in_features=128, out_features=11, bias=True)\n",
       ")"
      ]
     },
     "execution_count": 30,
     "metadata": {},
     "output_type": "execute_result"
    }
   ],
   "source": [
    "simple_mlp.embeddings.weight = nn.Parameter(embeddings)\n",
    "simple_mlp.to(device)\n",
    "train_model(simple_mlp, train_loader, val_loader)"
   ]
  },
  {
   "cell_type": "code",
   "execution_count": 31,
   "metadata": {},
   "outputs": [
    {
     "name": "stdout",
     "output_type": "stream",
     "text": [
      "Epoch 1/5, Training Loss: 1.3383053760009305\n",
      "Epoch 1/5, Validation Loss: 1.2730673285754952\n",
      "Epoch 2/5, Training Loss: 1.2428110385306097\n",
      "Epoch 2/5, Validation Loss: 1.2382161174271558\n",
      "Epoch 3/5, Training Loss: 1.2213530923196307\n",
      "Epoch 3/5, Validation Loss: 1.2462821925008618\n",
      "Epoch 4/5, Training Loss: 1.2121169749606489\n",
      "Epoch 4/5, Validation Loss: 1.2668418988988206\n",
      "Epoch 5/5, Training Loss: 1.2154065965228795\n",
      "Epoch 5/5, Validation Loss: 1.2539471734214473\n"
     ]
    },
    {
     "data": {
      "text/plain": [
       "SimpleRNN(\n",
       "  (embeddings): Embedding(2082, 16)\n",
       "  (lstm): LSTM(16, 128, num_layers=2, batch_first=True, dropout=0.5)\n",
       "  (fc): Linear(in_features=128, out_features=11, bias=True)\n",
       ")"
      ]
     },
     "execution_count": 31,
     "metadata": {},
     "output_type": "execute_result"
    }
   ],
   "source": [
    "simple_rnn.embeddings.weight = nn.Parameter(embeddings)\n",
    "simple_rnn.to(device)\n",
    "train_model(simple_rnn, train_loader, val_loader)\n"
   ]
  },
  {
   "cell_type": "code",
   "execution_count": 32,
   "metadata": {},
   "outputs": [],
   "source": [
    "from sklearn.metrics import classification_report, confusion_matrix, accuracy_score\n",
    "import numpy as np\n",
    "\n",
    "from sklearn.metrics import accuracy_score, classification_report\n",
    "\n",
    "def evaluate_model(model, data_loader):\n",
    "    model.eval()\n",
    "    all_predictions = []\n",
    "    all_targets = []\n",
    "\n",
    "    with torch.no_grad():\n",
    "        for inputs, targets in data_loader:\n",
    "            inputs = inputs.to(device)\n",
    "            outputs = model(inputs)\n",
    "            _, predicted = torch.max(outputs.data, 1)\n",
    "            all_predictions.extend(predicted.cpu().numpy())\n",
    "            all_targets.extend(targets.cpu().numpy())\n",
    "\n",
    "    accuracy = accuracy_score(all_targets, all_predictions)\n",
    "    return all_targets, all_predictions, accuracy\n",
    "\n"
   ]
  },
  {
   "cell_type": "code",
   "execution_count": 33,
   "metadata": {},
   "outputs": [
    {
     "name": "stdout",
     "output_type": "stream",
     "text": [
      "Simple MLP Accuracy: 0.4980777445536096\n",
      "Attention MLP Accuracy: 0.5143101238786844\n",
      "Simple RNN Accuracy: 0.5215719777872704\n"
     ]
    }
   ],
   "source": [
    "sm_target, sm_preds, sm_accuracy = evaluate_model(simple_mlp, val_loader)\n",
    "print(f'Simple MLP Accuracy: {sm_accuracy}')\n",
    "\n",
    "am_target, am_preds, am_accuracy = evaluate_model(attention_mlp, val_loader)\n",
    "print(f'Attention MLP Accuracy: {am_accuracy}')\n",
    "\n",
    "sr_target, sr_preds, sr_accuracy = evaluate_model(simple_rnn, val_loader)\n",
    "print(f'Simple RNN Accuracy: {sr_accuracy}')"
   ]
  },
  {
   "cell_type": "code",
   "execution_count": 34,
   "metadata": {},
   "outputs": [],
   "source": [
    "from sklearn.metrics import confusion_matrix, accuracy_score\n",
    "import matplotlib.pyplot as plt\n",
    "import seaborn as sns\n",
    "\n",
    "def plot_confusion_matrix(true_labels, predictions, classes, title=\"Confusion matrix\"):\n",
    "    cm = confusion_matrix(true_labels, predictions)\n",
    "    plt.figure(figsize=(10, 10))\n",
    "    sns.heatmap(cm, annot=True, fmt=\"d\", cbar=False, cmap=\"Blues\", xticklabels=classes, yticklabels=classes)\n",
    "    plt.ylabel('Actual')\n",
    "    plt.xlabel('Predicted')\n",
    "    plt.title(title)\n",
    "    plt.show()\n",
    "\n",
    "\n",
    "index_to_verb = {index: verb for verb, index in verb_to_index.items()}\n",
    "classes = [index_to_verb[i] for i in sorted(index_to_verb)]"
   ]
  },
  {
   "cell_type": "code",
   "execution_count": 35,
   "metadata": {},
   "outputs": [
    {
     "data": {
      "image/png": "[encoded data removed]",
      "text/plain": [
       "<Figure size 1000x1000 with 1 Axes>"
      ]
     },
     "metadata": {},
     "output_type": "display_data"
    }
   ],
   "source": [
    "test_target, test_preds, _ = evaluate_model(attention_mlp, test_loader)\n",
    "plot_confusion_matrix(test_target, test_preds, classes, \"Attention MLP\")\n"
   ]
  },
  {
   "cell_type": "markdown",
   "metadata": {},
   "source": [
    "All models are being trained on a CUDA supported RTX 3050. The Simple MLP shows moderate performance with the shortest training time of 38,6 seconds among the three models. MLPs are generally faster to train due to the straightforward architecture. However, the performance is somewhat limited as it has the lowest accuracy of 0,498. The Attention MLP has an improvement in accuracy over the Simple MLP with 0.514, whcih suggests the attention mechanism helps capture the relationships in the data better. This does come at a cost of being a lot more computational complex which resulted in a training time of 114,7 seconds. The performance of Simple RNN model were the best of the three models in accuracy as it is 0,521 with a much more moderate training time, compared to Attention MLP, at 40,4 seconds. \n",
    "\n",
    "In the confusion matrix we can see a trend on the diagonal which is what we want. At the same time it does seem to confuse is, are and was a substantial amount of times."
   ]
  },
  {
   "cell_type": "markdown",
   "metadata": {},
   "source": [
    "# 2.3 TEXT GENERATION"
   ]
  },
  {
   "cell_type": "code",
   "execution_count": 36,
   "metadata": {},
   "outputs": [],
   "source": [
    "device = torch.device(\"cuda\" if torch.cuda.is_available() else \"cpu\")\n",
    "\n",
    "class RNNModel(nn.Module):\n",
    "    def __init__(self, vocab_size, embedding_dim, hidden_dim, num_layers, rnn_type='lstm', use_positional_encodings=True):\n",
    "        super(RNNModel, self).__init__()\n",
    "        self.embeddings = nn.Embedding(vocab_size, embedding_dim)\n",
    "        self.use_positional_encodings = use_positional_encodings\n",
    "        if self.use_positional_encodings:\n",
    "            self.positional_encodings = self.create_positional_encodings(max_len=500, emb_dim=embedding_dim).to(device)  \n",
    "            \n",
    "        if rnn_type.lower() == 'lstm':\n",
    "            self.rnn = nn.LSTM(embedding_dim, hidden_dim, num_layers, batch_first=True)\n",
    "        else:\n",
    "            self.rnn = nn.GRU(embedding_dim, hidden_dim, num_layers, batch_first=True)\n",
    "\n",
    "        self.fc = nn.Linear(hidden_dim, vocab_size)\n",
    "        self.device = device\n",
    "\n",
    "    def forward(self, inputs):\n",
    "        embedded = self.embeddings(inputs) \n",
    "        if self.use_positional_encodings:\n",
    "            seq_len = inputs.size(1)\n",
    "            embedded += self.positional_encodings[:, :seq_len, :]\n",
    "\n",
    "        output, _ = self.rnn(embedded)\n",
    "        final_output = output[:, -1, :] \n",
    "        logits = self.fc(final_output)\n",
    "        return logits\n",
    "\n",
    "    def create_positional_encodings(self, max_len, emb_dim):\n",
    "        pe = torch.zeros(max_len, emb_dim)\n",
    "        position = torch.arange(0, max_len, dtype=torch.float).unsqueeze(1)\n",
    "        div_term = torch.exp(torch.arange(0, emb_dim, 2).float() * (-torch.log(torch.tensor(10000.0)) / emb_dim))\n",
    "        pe[:, 0::2] = torch.sin(position * div_term)\n",
    "        pe[:, 1::2] = torch.cos(position * div_term)\n",
    "        return pe.unsqueeze(0)\n"
   ]
  },
  {
   "cell_type": "code",
   "execution_count": 37,
   "metadata": {},
   "outputs": [],
   "source": [
    "configurations = [\n",
    "    {'embedding_dim': 100, 'hidden_dim': 128, 'num_layers': 1, 'rnn_type': 'lstm'},\n",
    "    {'embedding_dim': 100, 'hidden_dim': 128, 'num_layers': 2, 'rnn_type': 'lstm'},\n",
    "    {'embedding_dim': 100, 'hidden_dim': 256, 'num_layers': 2, 'rnn_type': 'gru'}\n",
    "]\n"
   ]
  },
  {
   "cell_type": "code",
   "execution_count": 38,
   "metadata": {},
   "outputs": [],
   "source": [
    "class RNNDataset(Dataset):\n",
    "    def __init__(self, data):\n",
    "        self.contexts, self.targets = zip(*data)\n",
    "        self.contects = torch.tensor(self.contexts, dtype=torch.long)\n",
    "        self.targets = torch.tensor(self.targets, dtype=torch.long)\n",
    "\n",
    "    def __len__(self):\n",
    "        return len(self.contexts)\n",
    "    \n",
    "    def __getitem__(self, idx):\n",
    "        return torch.tensor(self.contexts[idx], dtype=torch.long), self.targets[idx]"
   ]
  },
  {
   "cell_type": "code",
   "execution_count": 39,
   "metadata": {},
   "outputs": [],
   "source": [
    "def read_and_tokenize(file_path):\n",
    "    tokenizer = get_tokenizer('basic_english')\n",
    "    with open(file_path, 'r', encoding='utf-8') as f:\n",
    "        text = f.read()\n",
    "    text = preprocess_text(text)\n",
    "    sentences = text.split('\\n')  \n",
    "    tokenized_sentences = [tokenizer(sentence) for sentence in sentences if sentence.strip()]\n",
    "    return tokenized_sentences\n",
    "\n",
    "def preprocess_text(text):\n",
    "    text = text.lower().translate(str.maketrans('', '', string.punctuation))\n",
    "    return text\n",
    "\n",
    "def tokenize_directory(directory_path):\n",
    "    tokenized_texts = []\n",
    "    for file_name in os.listdir(directory_path):\n",
    "        if file_name.endswith('.txt'):  \n",
    "            file_path = os.path.join(directory_path, file_name)\n",
    "            sentences = read_and_tokenize(file_path)\n",
    "            tokenized_texts.extend(sentences) \n",
    "    return tokenized_texts\n",
    "\n",
    "train_folder = 'inf265_v24_project03_data/data_train'\n",
    "val_folder = 'inf265_v24_project03_data/data_val'\n",
    "test_folder = 'inf265_v24_project03_data/data_test'\n",
    "\n",
    "tokenized_train = tokenize_directory(train_folder)\n",
    "tokenized_val = tokenize_directory(val_folder)\n",
    "tokenized_test = tokenize_directory(test_folder)"
   ]
  },
  {
   "cell_type": "code",
   "execution_count": 40,
   "metadata": {},
   "outputs": [],
   "source": [
    "def build_vocabulary(tokenized_texts, min_freq):\n",
    "    flat_list = [word for sentence in tokenized_texts for word in sentence]\n",
    "    word_freq = Counter(flat_list)\n",
    "    vocab = {'<unk>': 0}\n",
    "    index = 1 \n",
    "    \n",
    "    for word, freq in word_freq.items():\n",
    "        if freq >= min_freq:\n",
    "            vocab[word] = index\n",
    "            index += 1\n",
    "    \n",
    "    total_words = sum(word_freq.values())\n",
    "    distinct_words = len(word_freq)\n",
    "    vocab_size = len(vocab)\n",
    "    \n",
    "    return vocab, total_words, distinct_words, vocab_size\n",
    "\n",
    "vocab, total_words, distinct_words, vocab_size = build_vocabulary(tokenized_train, min_freq=15)\n",
    "\n",
    "word_to_ix = {word: i for i, word in enumerate(vocab)}"
   ]
  },
  {
   "cell_type": "code",
   "execution_count": 41,
   "metadata": {},
   "outputs": [],
   "source": [
    "def create_sequences(tokenized_texts, word_to_ix, window_size):\n",
    "    data = []\n",
    "    for sentence in tokenized_texts:\n",
    "        indexed_sentence = [word_to_ix.get(word, word_to_ix['<unk>']) for word in sentence]\n",
    "        for i in range(window_size, len(indexed_sentence)):\n",
    "            context = indexed_sentence[i-window_size:i]\n",
    "            target = indexed_sentence[i]\n",
    "            data.append((context, target))\n",
    "    return data\n",
    "\n",
    "window_size = 4\n",
    "\n",
    "train_data = create_sequences(tokenized_train, word_to_ix, window_size)\n",
    "val_data = create_sequences(tokenized_val, word_to_ix, window_size)\n",
    "test_data = create_sequences(tokenized_test, word_to_ix, window_size)\n",
    "\n",
    "train_dataset = RNNDataset(train_data)\n",
    "val_dataset = RNNDataset(val_data)\n",
    "test_dataset = RNNDataset(test_data)\n",
    "\n",
    "train_loader = DataLoader(train_dataset, batch_size=64, shuffle=True)\n",
    "val_loader = DataLoader(val_dataset, batch_size=64, shuffle=True)\n",
    "test_loader = DataLoader(test_dataset, batch_size=64, shuffle=False)\n"
   ]
  },
  {
   "cell_type": "code",
   "execution_count": 42,
   "metadata": {},
   "outputs": [],
   "source": [
    "from torch.optim import Adam\n",
    "\n",
    "def train_model(model, train_loader, val_loader, epochs=5):\n",
    "    optimizer = torch.optim.Adam(model.parameters())\n",
    "    criterion = nn.CrossEntropyLoss()\n",
    "    model.to(device)\n",
    "\n",
    "    for epoch in range(epochs):\n",
    "        model.train()\n",
    "        total_train_loss = 0\n",
    "        for contexts, targets in train_loader:\n",
    "            contexts, targets = contexts.to(device), targets.to(device)\n",
    "            optimizer.zero_grad()\n",
    "            outputs = model(contexts)\n",
    "            loss = criterion(outputs, targets)\n",
    "            loss.backward()\n",
    "            optimizer.step()\n",
    "            total_train_loss += loss.item()\n",
    "        \n",
    "        model.eval()\n",
    "        correct = 0\n",
    "        total_val_loss = 0\n",
    "        with torch.no_grad():\n",
    "            for contexts, targets in val_loader:\n",
    "                contexts, targets = contexts.to(device), targets.to(device)\n",
    "                outputs = model(contexts)\n",
    "                loss = criterion(outputs, targets)\n",
    "                total_val_loss += loss.item()\n",
    "                _, predicted = torch.max(outputs.data, 1)\n",
    "                correct += (predicted == targets).sum().item()\n",
    "\n",
    "        train_loss = total_train_loss / len(train_loader)\n",
    "        val_loss = total_val_loss / len(val_loader)\n",
    "        val_accuracy = correct / len(val_loader.dataset)\n",
    "\n",
    "        print(f'Epoch {epoch+1}/{epochs}: Training Loss: {train_loss:.4f}, Validation Loss: {val_loss:.4f}, Validation Accuracy: {val_accuracy:.4f}')\n",
    "\n",
    "def evaluate_performance(model, data_loader):\n",
    "    model.eval()\n",
    "    correct, total = 0, 0\n",
    "    with torch.no_grad():\n",
    "        for inputs, targets in data_loader:\n",
    "            inputs, targets = inputs.to(device), targets.to(device)\n",
    "            outputs = model(inputs)\n",
    "            _, predicted = torch.max(outputs, 1)\n",
    "            total += targets.size(0)\n",
    "            correct += (predicted == targets).sum().item()\n",
    "    accuracy = correct / total\n",
    "    print(f'Evaluation Accuracy: {accuracy}')\n",
    "    return accuracy"
   ]
  },
  {
   "cell_type": "code",
   "execution_count": null,
   "metadata": {},
   "outputs": [],
   "source": [
    "results = {}\n",
    "for config in configurations:\n",
    "    print(f\"Training with configuration: {config}\")\n",
    "    model = RNNModel(vocab_size, config['embedding_dim'], config['hidden_dim'],\n",
    "                     config['num_layers'], config['rnn_type'])\n",
    "    train_model(model, train_loader, val_loader)\n",
    "    accuracy = evaluate_performance(model, val_loader)\n",
    "    results[str(config)] = accuracy\n",
    "    model_path = f\"rnn_model_2_{config['embedding_dim']}_{config['hidden_dim']}_{config['num_layers']}_{config['rnn_type']}.pth\"\n",
    "    torch.save(model.state_dict(), model_path)\n",
    "\n",
    "best_config = max(results, key=results.get)\n",
    "print(f'Best Model Configuration: {best_config} with Accuracy: {results[best_config]}')"
   ]
  },
  {
   "cell_type": "code",
   "execution_count": 44,
   "metadata": {},
   "outputs": [],
   "source": [
    "def load_model(model_path, vocab_size, config):\n",
    "    model = RNNModel(vocab_size, config['embedding_dim'], config['hidden_dim'],\n",
    "                     config['num_layers'], config['rnn_type'], use_positional_encodings=True)\n",
    "    model.load_state_dict(torch.load(model_path, map_location=model.device))\n",
    "    model.eval()  \n",
    "    model.to(model.device)\n",
    "    return model\n"
   ]
  },
  {
   "cell_type": "code",
   "execution_count": 45,
   "metadata": {},
   "outputs": [],
   "source": [
    "model_lstm_1 = load_model('rnn_model_100_128_1_lstm.pth',vocab_size, configurations[0])\n"
   ]
  },
  {
   "cell_type": "code",
   "execution_count": 46,
   "metadata": {},
   "outputs": [],
   "source": [
    "model_lstm_2 = load_model('rnn_model_100_128_2_lstm.pth',vocab_size, configurations[1])"
   ]
  },
  {
   "cell_type": "code",
   "execution_count": 47,
   "metadata": {},
   "outputs": [],
   "source": [
    "model_gru = load_model('rnn_model_100_256_2_gru.pth',vocab_size, configurations[2])"
   ]
  },
  {
   "cell_type": "code",
   "execution_count": 48,
   "metadata": {},
   "outputs": [],
   "source": [
    "def beam_search(model, initial_tokens, beam_width, n_words, vocab, ix_to_word, device='cuda'):\n",
    "    model.eval()\n",
    "    model.to(device)\n",
    "    sequences = [(initial_tokens, 0)] \n",
    "\n",
    "    for _ in range(n_words):\n",
    "        all_candidates = []\n",
    "        for seq, score in sequences:\n",
    "            seq_tensor = torch.tensor([seq], dtype=torch.long).to(device)\n",
    "            with torch.no_grad():\n",
    "                output = model(seq_tensor)\n",
    "                probabilities = F.softmax(output[-1], dim=0)\n",
    "\n",
    "            probs, indices = torch.topk(probabilities, beam_width)\n",
    "            for i in range(beam_width):\n",
    "                candidate = (seq + [indices[i].item()], score - torch.log(probs[i] + 1e-9).item())  \n",
    "                all_candidates.append(candidate)\n",
    "\n",
    "        all_candidates.sort(key=lambda x: x[1])\n",
    "        sequences = all_candidates[:beam_width]\n",
    "\n",
    "    return [[' '.join(ix_to_word[ix] for ix in seq)] for seq, _ in sequences] \n"
   ]
  },
  {
   "cell_type": "code",
   "execution_count": 49,
   "metadata": {},
   "outputs": [],
   "source": [
    "initial_sentence = \"what are\"\n",
    "\n",
    "initial_tokens = [word_to_ix.get(word, word_to_ix['<unk>']) for word in initial_sentence.split()]\n",
    "beam_width = 5  \n",
    "n_words = 8\n"
   ]
  },
  {
   "cell_type": "code",
   "execution_count": 50,
   "metadata": {},
   "outputs": [
    {
     "name": "stdout",
     "output_type": "stream",
     "text": [
      "The Gru model\n",
      "Generated Sequence 1: what are you going to do you want to think\n",
      "Generated Sequence 2: what are you going to do you think of that\n",
      "Generated Sequence 3: what are you going to do you want to be\n",
      "Generated Sequence 4: what are you going to do you think that it\n",
      "Generated Sequence 5: what are you going to do you want to want\n"
     ]
    }
   ],
   "source": [
    "ix_to_word = {v: k for k, v in word_to_ix.items()}\n",
    "\n",
    "generated_sequences = beam_search(model_gru, initial_tokens, beam_width, n_words, word_to_ix, ix_to_word)\n",
    "\n",
    "print(\"The Gru model\")\n",
    "for i, sequence in enumerate(generated_sequences):\n",
    "    print(f\"Generated Sequence {i+1}: {' '.join(sequence)}\")\n"
   ]
  },
  {
   "cell_type": "code",
   "execution_count": 51,
   "metadata": {},
   "outputs": [
    {
     "name": "stdout",
     "output_type": "stream",
     "text": [
      "The best LSTM model\n",
      "Generated Sequence 1: what are you to do with me said he i\n",
      "Generated Sequence 2: what are you to do with me said the man\n",
      "Generated Sequence 3: what are you to do with me and i am\n",
      "Generated Sequence 4: what are you to do with me and i will\n",
      "Generated Sequence 5: what are you to do with me i am not\n"
     ]
    }
   ],
   "source": [
    "generated_sequences = beam_search(model_lstm_2, initial_tokens, beam_width, n_words, word_to_ix, ix_to_word)\n",
    "\n",
    "print(\"The best LSTM model\")\n",
    "for i, sequence in enumerate(generated_sequences):\n",
    "    print(f\"Generated Sequence {i+1}: {' '.join(sequence)}\")"
   ]
  },
  {
   "cell_type": "markdown",
   "metadata": {},
   "source": [
    "The gru model seems to be better at generating meaningful sentences, but both of them struggle a lot with unknown tokens which results in a high frequency of unk in sentences. I should have tried training with more epochs and diverse hyperparameters, but training these models took some time so I did not get to explore this any further. I could maybe have tried using the embeddings from 2.1, but this I also did not get time to implement. The RuntimeError: CUDA error: device-side assert triggered posed a substantial challange for me as this happened everytime all cells were run, and to fix it I had to restart kernel and run all cells again. This only occured in the last 2 days before the deadline and I did not manage to solve this, but it resulted in me having to spend a lot more time on running the cells which is why the training process is not printed in some cases. I just stored the models and loaded them."
   ]
  }
 ],
 "metadata": {
  "kernelspec": {
   "display_name": "base",
   "language": "python",
   "name": "python3"
  },
  "language_info": {
   "codemirror_mode": {
    "name": "ipython",
    "version": 3
   },
   "file_extension": ".py",
   "mimetype": "text/x-python",
   "name": "python",
   "nbconvert_exporter": "python",
   "pygments_lexer": "ipython3",
   "version": "3.11.8"
  }
 },
 "nbformat": 4,
 "nbformat_minor": 2
}
